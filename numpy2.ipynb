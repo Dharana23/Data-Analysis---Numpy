#!/usr/bin/env python
# coding: utf-8

# In[1]:


import numpy as np


# In[2]:


arr = np.arange(0,10)


# In[3]:


arr


# In[4]:


arr[5]


# In[5]:


arr[2:6]


# In[6]:


arr[0:3]


# In[7]:


arr[:7]


# In[8]:


arr[4:]


# In[9]:


arr[0:4] = 23


# In[10]:


arr


# In[11]:


arr = np.arange(0,10)


# In[12]:


arr


# In[13]:


slice_arr = arr[3:8]


# In[14]:


slice_arr


# In[15]:


slice_arr[:]


# In[16]:


slice_arr[:] = 66


# In[17]:


slice_arr


# In[18]:


arr


# In[19]:


arr_copy = arr.copy()


# In[20]:


arr


# In[21]:


arr_copy[:]


# In[22]:


arr_copy[:] = 40


# In[23]:


arr_copy


# In[24]:


arr


# In[ ]:




